{
 "cells": [
  {
   "cell_type": "markdown",
   "metadata": {},
   "source": [
    "<a href=\"https://www.bigdatauniversity.com\"><img align = center src = \"https://ibm.box.com/shared/static/wbqvbi6o6ip0vz55ua5gp17g4f1k7ve9.png\" width = 400> </a>"
   ]
  },
  {
   "cell_type": "markdown",
   "metadata": {},
   "source": [
    "# <center> Exercise: Convolution on Images using TensorFlow for Deep Neural Networks (DNN)</center>"
   ]
  },
  {
   "cell_type": "markdown",
   "metadata": {},
   "source": [
    "This exercise is about learning to apply convolutions on an image using Tensorflow. Idea is to create a weight matrix and apply the function conv2d with 'same' and 'Valid' padding to check the effects on output image. \n",
    "\n",
    "To give an overview of how the output changes based on convolution parameters, this exercise is designed to build Layer one of Convolution Neural Network (CNN) along with maxpooling and relu functions and Visualize the outputs given an input image. "
   ]
  },
  {
   "cell_type": "markdown",
   "metadata": {},
   "source": [
    "### First, let's import the TensorFlow library and Python dependencies"
   ]
  },
  {
   "cell_type": "code",
   "execution_count": 10,
   "metadata": {
    "collapsed": true
   },
   "outputs": [],
   "source": [
    "#Importing\n",
    "import numpy as np\n",
    "from scipy import signal\n",
    "from scipy import misc\n",
    "import matplotlib.pyplot as plt\n",
    "from PIL import Image\n",
    "\n",
    "import tensorflow as tf"
   ]
  },
  {
   "cell_type": "markdown",
   "metadata": {},
   "source": [
    "### Read and display image by coverting it to a gray scale.   \n",
    "\n",
    "Read the input image as float data type as Tensorflow accepts images in float format. "
   ]
  },
  {
   "cell_type": "markdown",
   "metadata": {},
   "source": [
    "First download a samole image:"
   ]
  },
  {
   "cell_type": "code",
   "execution_count": 11,
   "metadata": {},
   "outputs": [
    {
     "name": "stdout",
     "output_type": "stream",
     "text": [
      "--2017-08-08 17:47:12--  https://ibm.box.com/shared/static/yqjnv0890doeu3mwb2u97f8rh1p0gd98.png\n",
      "Resolving ibm.box.com... 107.152.26.197, 107.152.27.197\n",
      "Connecting to ibm.box.com|107.152.26.197|:443... connected.\n",
      "HTTP request sent, awaiting response... 301 Moved Permanently\n",
      "Location: https://ibm.ent.box.com/shared/static/yqjnv0890doeu3mwb2u97f8rh1p0gd98.png [following]\n",
      "--2017-08-08 17:47:12--  https://ibm.ent.box.com/shared/static/yqjnv0890doeu3mwb2u97f8rh1p0gd98.png\n",
      "Resolving ibm.ent.box.com... 107.152.26.211, 107.152.27.211\n",
      "Connecting to ibm.ent.box.com|107.152.26.211|:443... connected.\n",
      "HTTP request sent, awaiting response... 302 Found\n",
      "Location: https://public.boxcloud.com/d/1/O4PQi563y-gRXJro1Nw8hh0SPw9zmxZfa53HcJHnacOp6F9So9ZpFTr_QU62zGRPphlp8mNS5iblSdr_JvEXlLZ_AWYlUjV34wtFGYQz4lfSV30eizDJKwRi1gjjYkcgWmR9vbWZ-5e2uyruvkO5rYTTuVXzqV5glYh2AugFXr_iWjFtdA2sk_MydoX4aKNfwkmOVsATrvhrJ8HgE8-ViNMMNWYCppwtoz2YW0wvcivK4MQANvseYTDN9rXx2jcWJoDCQLFyAxbKsa6f9nFnGlIDyDU1qlca2kyLEba6aN1EW0zFmk4e8u5Zuhfc1NMftb3iARgnQtowlhhMb5kWnYgByXcgCRuRAxpU9SI3AiCFpLYYIi0jWd9FTgS_3Oq-tLNbXm966HH8bXCfdMne116md9k6VHfDFEp8wwJnZBJFniZF6wigK9BOo6BMnl3kuzlCYVb-A30-2S6MsG2QkIqlpuAZuzIPa15an-PPH3G-adDLXYGcQLi1sZTxX7I4BXmip0cQUPvjtxzMO8Sl5floCXLPjFbygMFUc1BCKe1A3OxD405elyUPEe0G26DB8gC1k0HrQLuU60jm-BYT1V-jmHQ3PjSxxocy-D5v3VMotXPyo6dSA-4rrdfLVkWnm4-05xIMJnGkPiljhLl4e-D0K5NZRlkdVhSOiIS2mMM0KEnGwv9CDmzskNCQvWXxGxCbNmU3_5LrBKjKMr5eFb0H4fQxVWdm60RBkGcZqzzNQ4RcciysC9HSFb6iAI03Nnj4Kj-8TMbWRfJ9YewDAUZQYFoFgw_X1VTz8blw1mVFuopiIQAFQjY0E6Sm6bvBqonW4sYK2vdT6RukrXGKcsLM9huf2nho1qosb2D0DUQuZt1tHdA6ERfEXn0JN_4JeEtA7gEc3GFU65EY0vfPbd8nh7SVbS0UPlCFYT8gcc7WX6I5gz0viWkYt6RUok9O_a7eG-TcDd6OyTmgf0scrRHdTgmUUN7WmNMzns9Yt6mb1QhLmHpuYBopi7j3hgLvP4AylBkbKg6CAvHcNiyh96uEjZL9c6TBxr-U71V0XbtJ4EjmSNudltHkldVo75wWKSMhIWiwrw5Z5zxHBUxqtCeWHR6wwfR8x9M0dZ6FORtYICpaUPhFo5wHn2vx5QC-CVD6X_o_I_L2_uJjWtAhEG3gN-DR4xARAHlWnOhBrtdDH-_cXXlb/download [following]\n",
      "--2017-08-08 17:47:14--  https://public.boxcloud.com/d/1/O4PQi563y-gRXJro1Nw8hh0SPw9zmxZfa53HcJHnacOp6F9So9ZpFTr_QU62zGRPphlp8mNS5iblSdr_JvEXlLZ_AWYlUjV34wtFGYQz4lfSV30eizDJKwRi1gjjYkcgWmR9vbWZ-5e2uyruvkO5rYTTuVXzqV5glYh2AugFXr_iWjFtdA2sk_MydoX4aKNfwkmOVsATrvhrJ8HgE8-ViNMMNWYCppwtoz2YW0wvcivK4MQANvseYTDN9rXx2jcWJoDCQLFyAxbKsa6f9nFnGlIDyDU1qlca2kyLEba6aN1EW0zFmk4e8u5Zuhfc1NMftb3iARgnQtowlhhMb5kWnYgByXcgCRuRAxpU9SI3AiCFpLYYIi0jWd9FTgS_3Oq-tLNbXm966HH8bXCfdMne116md9k6VHfDFEp8wwJnZBJFniZF6wigK9BOo6BMnl3kuzlCYVb-A30-2S6MsG2QkIqlpuAZuzIPa15an-PPH3G-adDLXYGcQLi1sZTxX7I4BXmip0cQUPvjtxzMO8Sl5floCXLPjFbygMFUc1BCKe1A3OxD405elyUPEe0G26DB8gC1k0HrQLuU60jm-BYT1V-jmHQ3PjSxxocy-D5v3VMotXPyo6dSA-4rrdfLVkWnm4-05xIMJnGkPiljhLl4e-D0K5NZRlkdVhSOiIS2mMM0KEnGwv9CDmzskNCQvWXxGxCbNmU3_5LrBKjKMr5eFb0H4fQxVWdm60RBkGcZqzzNQ4RcciysC9HSFb6iAI03Nnj4Kj-8TMbWRfJ9YewDAUZQYFoFgw_X1VTz8blw1mVFuopiIQAFQjY0E6Sm6bvBqonW4sYK2vdT6RukrXGKcsLM9huf2nho1qosb2D0DUQuZt1tHdA6ERfEXn0JN_4JeEtA7gEc3GFU65EY0vfPbd8nh7SVbS0UPlCFYT8gcc7WX6I5gz0viWkYt6RUok9O_a7eG-TcDd6OyTmgf0scrRHdTgmUUN7WmNMzns9Yt6mb1QhLmHpuYBopi7j3hgLvP4AylBkbKg6CAvHcNiyh96uEjZL9c6TBxr-U71V0XbtJ4EjmSNudltHkldVo75wWKSMhIWiwrw5Z5zxHBUxqtCeWHR6wwfR8x9M0dZ6FORtYICpaUPhFo5wHn2vx5QC-CVD6X_o_I_L2_uJjWtAhEG3gN-DR4xARAHlWnOhBrtdDH-_cXXlb/download\n",
      "Resolving public.boxcloud.com... 107.152.25.200, 107.152.24.200\n",
      "Connecting to public.boxcloud.com|107.152.25.200|:443... connected.\n",
      "HTTP request sent, awaiting response... 200 OK\n",
      "Length: 512673 (501K) [image/png]\n",
      "Saving to: ‘/resources/data/lena.png’\n",
      "\n",
      "/resources/data/len 100%[===================>] 500.66K  1013KB/s    in 0.5s    \n",
      "\n",
      "2017-08-08 17:47:16 (1013 KB/s) - ‘/resources/data/lena.png’ saved [512673/512673]\n",
      "\n"
     ]
    }
   ],
   "source": [
    "!wget --output-document /resources/data/lena.png https://ibm.box.com/shared/static/yqjnv0890doeu3mwb2u97f8rh1p0gd98.png"
   ]
  },
  {
   "cell_type": "markdown",
   "metadata": {},
   "source": [
    "####  Run this Cell to experiment with Lena Image.  RGB with Size (512, 512)"
   ]
  },
  {
   "cell_type": "code",
   "execution_count": null,
   "metadata": {
    "collapsed": true
   },
   "outputs": [],
   "source": [
    "#read the image as Float data type\n",
    "im=misc.imread(\"/resources/data/lena.png\").astype(np.float)\n",
    "\n",
    "#im=misc.imread(\"one.png\").astype(np.float)\n",
    "\n",
    "#Convert image to gray scale\n",
    "grayim=np.dot(im[...,:3], [0.299, 0.587, 0.114])\n",
    "\n",
    "\n",
    "#Plot the images\n",
    "%matplotlib inline\n",
    "\n",
    "plt.subplot(1, 2, 1)\n",
    "plt.imshow(im)\n",
    "plt.xlabel(\" Float Image \")\n",
    "\n",
    "plt.subplot(1, 2, 2)\n",
    "plt.imshow(grayim, cmap=plt.get_cmap(\"gray\"))\n",
    "plt.xlabel(\" Gray Scale Image \")\n"
   ]
  },
  {
   "cell_type": "markdown",
   "metadata": {},
   "source": [
    "#### Run this cell to experiemnt with MNIST image of Number 1. Gray Scale SIze (28, 28)"
   ]
  },
  {
   "cell_type": "markdown",
   "metadata": {},
   "source": [
    "Print the shape of Gray Scale Image"
   ]
  },
  {
   "cell_type": "code",
   "execution_count": null,
   "metadata": {
    "collapsed": true
   },
   "outputs": [],
   "source": [
    "# Your Code Goes Here\n",
    "\n"
   ]
  },
  {
   "cell_type": "markdown",
   "metadata": {},
   "source": [
    "<div align=\"right\">\n",
    "<a href=\"#printgray\" class=\"btn btn-default\" data-toggle=\"collapse\">Click here for the solution</a>\n",
    "</div>\n",
    "<div id=\"printgray\" class=\"collapse\">\n",
    "```\n",
    "print grayim.shape\n",
    "\n",
    "```\n",
    "</div>"
   ]
  },
  {
   "cell_type": "markdown",
   "metadata": {},
   "source": [
    "### Extend the Dimensions of the Gray Scale Image\n",
    "\n",
    "For convolution, TensorFlow accepts Images of dimensions:\n",
    "\n",
    "[num of images, width, height, channels].\n",
    "\n",
    "In this case we are looking for dimensions of [1,512,512,1] from (512,512)."
   ]
  },
  {
   "cell_type": "code",
   "execution_count": null,
   "metadata": {
    "collapsed": true
   },
   "outputs": [],
   "source": [
    "Image = np.expand_dims(np.expand_dims(grayim, 0), -1)\n",
    "\n",
    "print Image.shape\n"
   ]
  },
  {
   "cell_type": "markdown",
   "metadata": {},
   "source": [
    "### Create Place holder for an input image and Print the Shape\n",
    "\n",
    "The placeholder takes input in float format and same size of input image"
   ]
  },
  {
   "cell_type": "code",
   "execution_count": null,
   "metadata": {
    "collapsed": true
   },
   "outputs": [],
   "source": [
    "# Your Code Goes Here\n",
    "\n"
   ]
  },
  {
   "cell_type": "markdown",
   "metadata": {},
   "source": [
    "<div align=\"right\">\n",
    "<a href=\"#placeholder\" class=\"btn btn-default\" data-toggle=\"collapse\">Click here for the solution</a>\n",
    "</div>\n",
    "<div id=\"placeholder\" class=\"collapse\">\n",
    "```\n",
    "img= tf.placeholder(tf.float32, [None,512,512,1])\n",
    "print img.get_shape().as_list()\n",
    "\n",
    "```\n",
    "</div>"
   ]
  },
  {
   "cell_type": "markdown",
   "metadata": {},
   "source": [
    "### Create a Variable for Weight Matrix and Print the Shape\n",
    "\n",
    "The shape of weight matrix is of the form:\n",
    "[ Height, widht, Input , Output]. \n",
    "\n",
    "In this case lets create weight matrix of size 5 X 5 and keeping number of inputs and output to just 1. So, the shape is of form [5,5,1,1]."
   ]
  },
  {
   "cell_type": "code",
   "execution_count": null,
   "metadata": {
    "collapsed": true
   },
   "outputs": [],
   "source": [
    "# Your Code Goes Here\n",
    "\n"
   ]
  },
  {
   "cell_type": "markdown",
   "metadata": {},
   "source": [
    "<div align=\"right\">\n",
    "<a href=\"#Variable\" class=\"btn btn-default\" data-toggle=\"collapse\">Click here for the solution</a>\n",
    "</div>\n",
    "<div id=\"Variable\" class=\"collapse\">\n",
    "```\n",
    "shape=[5,5,1,1]\n",
    "weights =tf.Variable(tf.truncated_normal(shape, stddev=0.05))\n",
    "print weights.get_shape().as_list()\n",
    "\n",
    "```\n",
    "</div>"
   ]
  },
  {
   "cell_type": "markdown",
   "metadata": {},
   "source": [
    "###  Create Two Convolution Graphs in Tensorflow\n",
    "\n",
    "lets use the functon tf.nn.conv2d to create a graph for convolution operation with padding 'same' and Padding 'Valid'."
   ]
  },
  {
   "cell_type": "code",
   "execution_count": null,
   "metadata": {
    "collapsed": true
   },
   "outputs": [],
   "source": [
    "# You Code Goes Here\n",
    "\n",
    "# for convolution output 1\n",
    "ConOut=\n",
    "\n",
    "# for convolution output 2\n",
    "ConOut2= \n",
    "\n",
    "\n"
   ]
  },
  {
   "cell_type": "markdown",
   "metadata": {},
   "source": [
    "<div align=\"right\">\n",
    "<a href=\"#Graph\" class=\"btn btn-default\" data-toggle=\"collapse\">Click here for the solution</a>\n",
    "</div>\n",
    "<div id=\"Graph\" class=\"collapse\">\n",
    "```\n",
    "ConOut = tf.nn.conv2d(input=img,\n",
    "                         filter=weights,\n",
    "                         strides=[1, 1, 1, 1],\n",
    "                         padding='SAME')\n",
    "\n",
    "ConOut2 = tf.nn.conv2d(input=img,\n",
    "                         filter=weights,\n",
    "                         strides=[1, 1, 1, 1],\n",
    "                         padding='VALID')\n",
    "```\n",
    "</div>"
   ]
  },
  {
   "cell_type": "markdown",
   "metadata": {},
   "source": [
    "### Initialize all variables and Run the Sessions"
   ]
  },
  {
   "cell_type": "code",
   "execution_count": null,
   "metadata": {
    "collapsed": true
   },
   "outputs": [],
   "source": [
    "init = tf.global_variables_initializer()\n",
    "sess= tf.Session()\n",
    "sess.run(init)"
   ]
  },
  {
   "cell_type": "markdown",
   "metadata": {},
   "source": [
    "Run the sesions to get the results for two convolution operations "
   ]
  },
  {
   "cell_type": "code",
   "execution_count": null,
   "metadata": {
    "collapsed": true
   },
   "outputs": [],
   "source": [
    "# Your Code Goes Here\n",
    "\n",
    "# Session for Result 1\n",
    "result = \n",
    "\n",
    "\n",
    "# Session for Result 2\n",
    "result2 = \n"
   ]
  },
  {
   "cell_type": "markdown",
   "metadata": {},
   "source": [
    "<div align=\"right\">\n",
    "<a href=\"#Result\" class=\"btn btn-default\" data-toggle=\"collapse\">Click here for the solution</a>\n",
    "</div>\n",
    "<div id=\"Result\" class=\"collapse\">\n",
    "```\n",
    "result = sess.run(ConOut,feed_dict={img:Image})\n",
    "\n",
    "result2 = sess.run(ConOut2,feed_dict={img:Image})\n",
    "```\n",
    "</div>"
   ]
  },
  {
   "cell_type": "markdown",
   "metadata": {},
   "source": [
    "###  Display the output images \n",
    "\n",
    "The result of convolution with 'same' padding is of the form [1,512,512,1] and for 'valid' padding image is of the shape [1,508,508,1]. To display the images, our job is to reshape the dimensions in the form (512,512) and (508,508) respectively."
   ]
  },
  {
   "cell_type": "code",
   "execution_count": null,
   "metadata": {
    "collapsed": true
   },
   "outputs": [],
   "source": [
    "\n",
    "# for the result with 'SAME' Padding \n",
    "\n",
    "#reduce the dimension\n",
    "vec = np.reshape(result, (1, -1));\n",
    "# Reshape the image\n",
    "image= np.reshape(vec,(512,512))\n",
    "\n",
    "print image.shape\n",
    "\n",
    "\n",
    "# for the result with 'VALID' Padding \n",
    "\n",
    "#reduce the dimension\n",
    "vec2 = np.reshape(result2, (1, -1));\n",
    "# Reshape the image\n",
    "image2= np.reshape(vec2,(508,508))\n",
    "\n",
    "print image2.shape\n",
    "\n",
    "\n"
   ]
  },
  {
   "cell_type": "markdown",
   "metadata": {},
   "source": [
    "Display the images "
   ]
  },
  {
   "cell_type": "code",
   "execution_count": null,
   "metadata": {
    "collapsed": true
   },
   "outputs": [],
   "source": [
    "#Plot the images\n",
    "%matplotlib inline\n",
    "\n",
    "plt.subplot(1, 2, 1)\n",
    "plt.imshow(image,cmap=plt.get_cmap(\"gray\"))\n",
    "plt.xlabel(\" SAME Padding \")\n",
    "\n",
    "plt.subplot(1, 2, 2)\n",
    "plt.imshow(image2, cmap=plt.get_cmap(\"gray\"))\n",
    "plt.xlabel(\" VALID Padding \")"
   ]
  },
  {
   "cell_type": "markdown",
   "metadata": {},
   "source": [
    "Feel free to change the weight matrix and experiment with different Paddings to see the changes in output images. "
   ]
  },
  {
   "cell_type": "markdown",
   "metadata": {},
   "source": [
    "## Create First Convolution Neural Network Layer\n",
    "\n",
    "\n",
    "using above conv2d function lets build our first conv Layer. Usually most general CNN architecture Layer 1 comprises of Convolution, Relu and MaxPooling. Lets create these functions to check the effects on \"Lena\" Image. Depending on the architecture these functions may change. For this exercise lets assume our Layer 1 has just three functions Convolution, Relu and Maxpooling.\n",
    "\n",
    "It is most often repetation of these layers stacked on top of each other to create Deep CNN\n"
   ]
  },
  {
   "cell_type": "code",
   "execution_count": null,
   "metadata": {
    "collapsed": true
   },
   "outputs": [],
   "source": [
    "#lets create functions for convolution and Maxpooling\n",
    "\n",
    "def conv2d (X,W):\n",
    "    \n",
    "    #Your Code Goes Here\n",
    "    \n",
    " \n",
    "\n",
    "def MaxPool (X):\n",
    "    \n",
    "    #Your Code Goes Here\n"
   ]
  },
  {
   "cell_type": "markdown",
   "metadata": {},
   "source": [
    "<div align=\"right\">\n",
    "<a href=\"#Function\" class=\"btn btn-default\" data-toggle=\"collapse\">Click here for the solution</a>\n",
    "</div>\n",
    "<div id=\"Function\" class=\"collapse\">\n",
    "```\n",
    "return tf.nn.conv2d(input=X,filter=W,strides=[1, 1, 1, 1],padding='SAME')\n",
    "\n",
    "return tf.nn.max_pool(X, ksize=[1, 2, 2, 1], strides=[1, 2, 2, 1], padding='SAME')\n",
    "```\n",
    "</div>"
   ]
  },
  {
   "cell_type": "markdown",
   "metadata": {},
   "source": [
    "### Create Weights and Biases for Convolution\n",
    "\n",
    "The weights are of the shape [Height, Width , Input , Output]. Here lets create the weights of size 5X5 which has 1 input and 32 Outputs. "
   ]
  },
  {
   "cell_type": "code",
   "execution_count": null,
   "metadata": {
    "collapsed": true
   },
   "outputs": [],
   "source": [
    "\n",
    "weights = {\n",
    "        # 5 x 5 convolution, 1 input image, 32 outputs\n",
    "       \n",
    "        \n",
    "       \n",
    "    }\n",
    "\n",
    "biases = {\n",
    "        #bias should be of the size of number of Outputs\n",
    "       \n",
    "        \n",
    "    }\n",
    "     \n",
    "    "
   ]
  },
  {
   "cell_type": "markdown",
   "metadata": {},
   "source": [
    "<div align=\"right\">\n",
    "<a href=\"#Weights\" class=\"btn btn-default\" data-toggle=\"collapse\">Click here for the solution</a>\n",
    "</div>\n",
    "<div id=\"Weights\" class=\"collapse\">\n",
    "```\n",
    " 'W_conv1': tf.Variable(tf.random_normal([5, 5, 1, 32]))\n",
    "\n",
    " 'b_conv1': tf.Variable(tf.random_normal([32]))\n",
    "```\n",
    "</div>"
   ]
  },
  {
   "cell_type": "markdown",
   "metadata": {},
   "source": [
    "### Define a TensorFlow Graph for Relu, Convolution and Maxpooling\n",
    "\n",
    "The output of Conv2d is passed through Relu Layer and finally, the output of Relu is given as input for Maxpooling layer. Let's define the graph and print the shapes.The size of Image is reduced after passing through Maxpool Layer. You can change the size and strides in Maxpool layer to check how the image size varies \n"
   ]
  },
  {
   "cell_type": "code",
   "execution_count": null,
   "metadata": {
    "collapsed": true
   },
   "outputs": [],
   "source": [
    "\n",
    "conv1 = # Your Code Goes here\n",
    "\n",
    "Mxpool = # Your Code Goes here\n",
    "\n",
    "    \n",
    "print conv1.get_shape().as_list()\n",
    "\n",
    "print Mxpool.get_shape().as_list()"
   ]
  },
  {
   "cell_type": "markdown",
   "metadata": {},
   "source": [
    "<div align=\"right\">\n",
    "<a href=\"#Conv\" class=\"btn btn-default\" data-toggle=\"collapse\">Click here for the solution</a>\n",
    "</div>\n",
    "<div id=\"Conv\" class=\"collapse\">\n",
    "```\n",
    "tf.nn.relu(conv2d(img, weights['W_conv1']) + biases['b_conv1'])\n",
    "\n",
    "MaxPool (conv1)\n",
    "```\n",
    "</div>"
   ]
  },
  {
   "cell_type": "markdown",
   "metadata": {},
   "source": [
    "### Initialize all TensorFlow Variables and Run the Session"
   ]
  },
  {
   "cell_type": "code",
   "execution_count": null,
   "metadata": {
    "collapsed": true
   },
   "outputs": [],
   "source": [
    "\n",
    "init = tf.global_variables_initializer()\n",
    "sess= tf.Session()\n",
    "sess.run(init)"
   ]
  },
  {
   "cell_type": "markdown",
   "metadata": {},
   "source": [
    "### Run session to get the output of Layer 1 \n",
    "\n",
    "The session is run on MxPool which will be the final output "
   ]
  },
  {
   "cell_type": "code",
   "execution_count": null,
   "metadata": {
    "collapsed": true
   },
   "outputs": [],
   "source": [
    "Layer1 = # Your Code Goes Here"
   ]
  },
  {
   "cell_type": "markdown",
   "metadata": {},
   "source": [
    "<div align=\"right\">\n",
    "<a href=\"#Result123\" class=\"btn btn-default\" data-toggle=\"collapse\">Click here for the solution</a>\n",
    "</div>\n",
    "<div id=\"Result123\" class=\"collapse\">\n",
    "```\n",
    "sess.run(Mxpool,feed_dict={img:Image})\n",
    "\n",
    "\n",
    "```\n",
    "</div>"
   ]
  },
  {
   "cell_type": "markdown",
   "metadata": {},
   "source": [
    "### Visualize the Output of Convolution layer1 "
   ]
  },
  {
   "cell_type": "code",
   "execution_count": null,
   "metadata": {
    "collapsed": true
   },
   "outputs": [],
   "source": [
    "print Layer1.shape\n",
    "\n",
    "vec = np.reshape(Layer1, (256,256,32));\n",
    "print vec.shape\n",
    "\n",
    "for i in range (32):\n",
    "    \n",
    "    image=vec[:,:,i]\n",
    "    #print image\n",
    "    #image *= 255.0/image.max() \n",
    "    #print image\n",
    "    plt.imshow(image,cmap=plt.get_cmap(\"gray\"))\n",
    "    plt.xlabel( i , fontsize=20, color='red')\n",
    "    plt.show()\n",
    "    plt.close()\n"
   ]
  },
  {
   "cell_type": "markdown",
   "metadata": {},
   "source": [
    "Please feel free to experiemnt with different values of: Padding, Kernel Size to see how the output varies\n",
    "\n",
    "The Idea behind this exercise is to gain understanding on how to apply convolutions and other functions on Images. We are NOT training Neural Network here, however just checking the effects of changing parameters of the above functions which are basic building blocks of any Deep Convolution neural Networks.  "
   ]
  },
  {
   "cell_type": "markdown",
   "metadata": {},
   "source": [
    "## Want to learn more?\n",
    "\n",
    "Running deep learning programs usually needs a high performance platform. PowerAI speeds up deep learning and AI. Built on IBM's Power Systems, PowerAI is a scalable software platform that accelerates deep learning and AI with blazing performance for individual users or enterprises. The PowerAI platform supports popular machine learning libraries and dependencies including Tensorflow, Caffe, Torch, and Theano. You can download a [free version of PowerAI](https://cocl.us/ML0120EN_PAI).\n",
    "\n",
    "Also, you can use Data Science Experience to run these notebooks faster with bigger datasets. Data Science Experience is IBM's leading cloud solution for data scientists, built by data scientists. With Jupyter notebooks, RStudio, Apache Spark and popular libraries pre-packaged in the cloud, DSX enables data scientists to collaborate on their projects without having to install anything. Join the fast-growing community of DSX users today with a free account at [Data Science Experience](https://cocl.us/ML0120EN_DSX)This is the end of this lesson. Hopefully, now you have a deeper and intuitive understanding regarding the LSTM model. Thank you for reading this notebook, and good luck on your studies."
   ]
  },
  {
   "cell_type": "markdown",
   "metadata": {},
   "source": [
    "## Thank You Completing This Exercise "
   ]
  },
  {
   "cell_type": "markdown",
   "metadata": {},
   "source": [
    "Created by <a href = \"https://ca.linkedin.com/in/shashibushan-yenkanchi\"> Shashibushan Yenkanchi </a> </h4>\n",
    "<hr>\n",
    "Copyright &copy; 2016 [Big Data University](https://bigdatauniversity.com/?utm_source=bducopyrightlink&utm_medium=dswb&utm_campaign=bdu). This notebook and its source code are released under the terms of the [MIT License](https://bigdatauniversity.com/mit-license/)."
   ]
  }
 ],
 "metadata": {
  "kernelspec": {
   "display_name": "Python 2",
   "language": "python",
   "name": "python2"
  },
  "language_info": {
   "codemirror_mode": {
    "name": "ipython",
    "version": 2
   },
   "file_extension": ".py",
   "mimetype": "text/x-python",
   "name": "python",
   "nbconvert_exporter": "python",
   "pygments_lexer": "ipython2",
   "version": "2.7.13"
  },
  "widgets": {
   "state": {},
   "version": "1.1.2"
  }
 },
 "nbformat": 4,
 "nbformat_minor": 1
}
